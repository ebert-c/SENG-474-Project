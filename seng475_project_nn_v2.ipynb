{
 "cells": [
  {
   "cell_type": "markdown",
   "metadata": {},
   "source": [
    "# Setup (Run contents before running any experiment)"
   ]
  },
  {
   "cell_type": "code",
   "execution_count": 1,
   "metadata": {},
   "outputs": [],
   "source": [
    "import scipy.io\n",
    "\n",
    "# prereqs import\n",
    "import pandas as pd\n",
    "import numpy as np\n",
    "import math\n",
    "import re\n",
    "#from sklearn.tree import DecisionTreeClassifier\n",
    "from sklearn.model_selection import train_test_split\n",
    "from sklearn.metrics import confusion_matrix\n",
    "from sklearn.preprocessing import normalize\n",
    "import matplotlib.pyplot as plt\n",
    "\n",
    "# load matlab data\n",
    "mat = scipy.io.loadmat('matlab/emnist-balanced')\n",
    "mat.keys()\n",
    "data = mat['dataset']\n",
    "\n",
    "# see page 4 of the paper on emnist\n",
    "# uncertain what 3rd entry is in dataset\n",
    "X_train = data['train'][0,0]['images'][0,0]\n",
    "y_train = data['train'][0,0]['labels'][0,0]\n",
    "X_test = data['test'][0,0]['images'][0,0]\n",
    "y_test = data['test'][0,0]['labels'][0,0]\n",
    "\n",
    "# try proccessing data (pixel values from EMINST are not normalized, 0-255)\n",
    "def rescale_DivideBy255(inputData):\n",
    "    outputArray = []\n",
    "    for i in range(len(inputData)):\n",
    "        outputArray.append(inputData[i]/255)\n",
    "\n",
    "    return outputArray\n",
    "\n",
    "X_train_normalized = rescale_DivideBy255(X_train)\n",
    "X_test_normalized = rescale_DivideBy255(X_test)\n",
    "\n",
    "train_data = X_train_normalized\n",
    "train_target = y_train\n",
    "test_data = X_test_normalized\n",
    "test_target = y_test"
   ]
  },
  {
   "cell_type": "code",
   "execution_count": 2,
   "metadata": {},
   "outputs": [],
   "source": [
    "# use ski kit learns kcv method -> cross_val_score, take return type and get .mean()\n",
    "# most of the code throws warnings unless specifically ignore\n",
    "import warnings\n",
    "warnings.filterwarnings('ignore')"
   ]
  },
  {
   "cell_type": "markdown",
   "metadata": {},
   "source": [
    "# Test NN"
   ]
  },
  {
   "cell_type": "code",
   "execution_count": 3,
   "metadata": {},
   "outputs": [
    {
     "data": {
      "text/html": [
       "<style>#sk-container-id-1 {color: black;}#sk-container-id-1 pre{padding: 0;}#sk-container-id-1 div.sk-toggleable {background-color: white;}#sk-container-id-1 label.sk-toggleable__label {cursor: pointer;display: block;width: 100%;margin-bottom: 0;padding: 0.3em;box-sizing: border-box;text-align: center;}#sk-container-id-1 label.sk-toggleable__label-arrow:before {content: \"▸\";float: left;margin-right: 0.25em;color: #696969;}#sk-container-id-1 label.sk-toggleable__label-arrow:hover:before {color: black;}#sk-container-id-1 div.sk-estimator:hover label.sk-toggleable__label-arrow:before {color: black;}#sk-container-id-1 div.sk-toggleable__content {max-height: 0;max-width: 0;overflow: hidden;text-align: left;background-color: #f0f8ff;}#sk-container-id-1 div.sk-toggleable__content pre {margin: 0.2em;color: black;border-radius: 0.25em;background-color: #f0f8ff;}#sk-container-id-1 input.sk-toggleable__control:checked~div.sk-toggleable__content {max-height: 200px;max-width: 100%;overflow: auto;}#sk-container-id-1 input.sk-toggleable__control:checked~label.sk-toggleable__label-arrow:before {content: \"▾\";}#sk-container-id-1 div.sk-estimator input.sk-toggleable__control:checked~label.sk-toggleable__label {background-color: #d4ebff;}#sk-container-id-1 div.sk-label input.sk-toggleable__control:checked~label.sk-toggleable__label {background-color: #d4ebff;}#sk-container-id-1 input.sk-hidden--visually {border: 0;clip: rect(1px 1px 1px 1px);clip: rect(1px, 1px, 1px, 1px);height: 1px;margin: -1px;overflow: hidden;padding: 0;position: absolute;width: 1px;}#sk-container-id-1 div.sk-estimator {font-family: monospace;background-color: #f0f8ff;border: 1px dotted black;border-radius: 0.25em;box-sizing: border-box;margin-bottom: 0.5em;}#sk-container-id-1 div.sk-estimator:hover {background-color: #d4ebff;}#sk-container-id-1 div.sk-parallel-item::after {content: \"\";width: 100%;border-bottom: 1px solid gray;flex-grow: 1;}#sk-container-id-1 div.sk-label:hover label.sk-toggleable__label {background-color: #d4ebff;}#sk-container-id-1 div.sk-serial::before {content: \"\";position: absolute;border-left: 1px solid gray;box-sizing: border-box;top: 0;bottom: 0;left: 50%;z-index: 0;}#sk-container-id-1 div.sk-serial {display: flex;flex-direction: column;align-items: center;background-color: white;padding-right: 0.2em;padding-left: 0.2em;position: relative;}#sk-container-id-1 div.sk-item {position: relative;z-index: 1;}#sk-container-id-1 div.sk-parallel {display: flex;align-items: stretch;justify-content: center;background-color: white;position: relative;}#sk-container-id-1 div.sk-item::before, #sk-container-id-1 div.sk-parallel-item::before {content: \"\";position: absolute;border-left: 1px solid gray;box-sizing: border-box;top: 0;bottom: 0;left: 50%;z-index: -1;}#sk-container-id-1 div.sk-parallel-item {display: flex;flex-direction: column;z-index: 1;position: relative;background-color: white;}#sk-container-id-1 div.sk-parallel-item:first-child::after {align-self: flex-end;width: 50%;}#sk-container-id-1 div.sk-parallel-item:last-child::after {align-self: flex-start;width: 50%;}#sk-container-id-1 div.sk-parallel-item:only-child::after {width: 0;}#sk-container-id-1 div.sk-dashed-wrapped {border: 1px dashed gray;margin: 0 0.4em 0.5em 0.4em;box-sizing: border-box;padding-bottom: 0.4em;background-color: white;}#sk-container-id-1 div.sk-label label {font-family: monospace;font-weight: bold;display: inline-block;line-height: 1.2em;}#sk-container-id-1 div.sk-label-container {text-align: center;}#sk-container-id-1 div.sk-container {/* jupyter's `normalize.less` sets `[hidden] { display: none; }` but bootstrap.min.css set `[hidden] { display: none !important; }` so we also need the `!important` here to be able to override the default hidden behavior on the sphinx rendered scikit-learn.org. See: https://github.com/scikit-learn/scikit-learn/issues/21755 */display: inline-block !important;position: relative;}#sk-container-id-1 div.sk-text-repr-fallback {display: none;}</style><div id=\"sk-container-id-1\" class=\"sk-top-container\"><div class=\"sk-text-repr-fallback\"><pre>MLPClassifier(hidden_layer_sizes=(1,))</pre><b>In a Jupyter environment, please rerun this cell to show the HTML representation or trust the notebook. <br />On GitHub, the HTML representation is unable to render, please try loading this page with nbviewer.org.</b></div><div class=\"sk-container\" hidden><div class=\"sk-item\"><div class=\"sk-estimator sk-toggleable\"><input class=\"sk-toggleable__control sk-hidden--visually\" id=\"sk-estimator-id-1\" type=\"checkbox\" checked><label for=\"sk-estimator-id-1\" class=\"sk-toggleable__label sk-toggleable__label-arrow\">MLPClassifier</label><div class=\"sk-toggleable__content\"><pre>MLPClassifier(hidden_layer_sizes=(1,))</pre></div></div></div></div></div>"
      ],
      "text/plain": [
       "MLPClassifier(hidden_layer_sizes=(1,))"
      ]
     },
     "execution_count": 3,
     "metadata": {},
     "output_type": "execute_result"
    }
   ],
   "source": [
    "from sklearn import neural_network\n",
    "testNN = neural_network.MLPClassifier(hidden_layer_sizes=(1,))\n",
    "testNN.fit(train_data,train_target)"
   ]
  },
  {
   "cell_type": "code",
   "execution_count": 4,
   "metadata": {},
   "outputs": [],
   "source": [
    "# cv=2> results in kfold split using (Stratified)KFold/KFold from scikit learn\n",
    "from sklearn.model_selection import cross_val_score\n",
    "scores = cross_val_score(testNN,train_data,train_target,cv=2)"
   ]
  },
  {
   "cell_type": "code",
   "execution_count": 5,
   "metadata": {},
   "outputs": [
    {
     "data": {
      "text/plain": [
       "0.07680851063829788"
      ]
     },
     "execution_count": 5,
     "metadata": {},
     "output_type": "execute_result"
    }
   ],
   "source": [
    "#average accuracy across kfold cv\n",
    "scores.mean()"
   ]
  },
  {
   "cell_type": "code",
   "execution_count": 6,
   "metadata": {},
   "outputs": [
    {
     "data": {
      "text/plain": [
       "0.06644503546099291"
      ]
     },
     "execution_count": 6,
     "metadata": {},
     "output_type": "execute_result"
    }
   ],
   "source": [
    "testNN.score(train_data,train_target)"
   ]
  },
  {
   "cell_type": "code",
   "execution_count": 7,
   "metadata": {},
   "outputs": [
    {
     "data": {
      "text/plain": [
       "['testPickleNN.joblib']"
      ]
     },
     "execution_count": 7,
     "metadata": {},
     "output_type": "execute_result"
    }
   ],
   "source": [
    "# save(pickle) the model for later. Save to disk\n",
    "from joblib import dump,load\n",
    "dump(testNN,'testPickleNN.joblib') #file name will be put in same folder as this notebook"
   ]
  },
  {
   "cell_type": "markdown",
   "metadata": {},
   "source": [
    "## Test loading pickled model"
   ]
  },
  {
   "cell_type": "code",
   "execution_count": 8,
   "metadata": {},
   "outputs": [
    {
     "data": {
      "text/plain": [
       "0.06644503546099291"
      ]
     },
     "execution_count": 8,
     "metadata": {},
     "output_type": "execute_result"
    }
   ],
   "source": [
    "# test load pickeld model from disk\n",
    "from joblib import load\n",
    "testNN_2 = load('testPickleNN.joblib')\n",
    "testNN_2.score(train_data,train_target)"
   ]
  },
  {
   "cell_type": "markdown",
   "metadata": {},
   "source": [
    "# E0 - mock experiment scafold"
   ]
  },
  {
   "cell_type": "markdown",
   "metadata": {},
   "source": [
    "### E0 - Setup"
   ]
  },
  {
   "cell_type": "code",
   "execution_count": 7,
   "metadata": {},
   "outputs": [],
   "source": [
    "# setup global file names\n",
    "# change these names to be unique\n",
    "store_models_name = 'e0_simpleLayers_models.joblib'\n",
    "store_results_name = 'e0_simpleLayers_results.joblib'"
   ]
  },
  {
   "cell_type": "code",
   "execution_count": 8,
   "metadata": {},
   "outputs": [],
   "source": [
    "# define hyper parameter\n",
    "# hidden_layer_sizes, naive experiment for fast demonstration of scafold\n",
    "hp = [(1,),(2,),(3,)]"
   ]
  },
  {
   "cell_type": "markdown",
   "metadata": {},
   "source": [
    "### E0 - training"
   ]
  },
  {
   "cell_type": "code",
   "execution_count": 6,
   "metadata": {},
   "outputs": [],
   "source": [
    "# train models\n",
    "from sklearn import neural_network\n",
    "\n",
    "trainedModels = []\n",
    "\n",
    "for cur_hp in hp:\n",
    "    nn_characterClassifier = neural_network.MLPClassifier(hidden_layer_sizes=cur_hp)\n",
    "    nn_characterClassifier.fit(train_data,train_target)\n",
    "    trainedModels.append(nn_characterClassifier)"
   ]
  },
  {
   "cell_type": "code",
   "execution_count": 7,
   "metadata": {},
   "outputs": [
    {
     "data": {
      "text/plain": [
       "['e0_simpleLayers_models.joblib']"
      ]
     },
     "execution_count": 7,
     "metadata": {},
     "output_type": "execute_result"
    }
   ],
   "source": [
    "# store models\n",
    "from joblib import dump\n",
    "dump(trainedModels,store_models_name)"
   ]
  },
  {
   "cell_type": "markdown",
   "metadata": {},
   "source": [
    "### E0 - Model Evaluation"
   ]
  },
  {
   "cell_type": "code",
   "execution_count": 4,
   "metadata": {},
   "outputs": [],
   "source": [
    "# evaulate models\n",
    "from joblib import load\n",
    "from sklearn.model_selection import cross_val_score\n",
    "\n",
    "result_y = []\n",
    "load_trainedModels = load(store_models_name)\n",
    "for i in range(len(load_trainedModels)):\n",
    "    result_y.append(cross_val_score(load_trainedModels[i],X=train_data,y=train_target,cv=5).mean())"
   ]
  },
  {
   "cell_type": "code",
   "execution_count": 5,
   "metadata": {},
   "outputs": [
    {
     "data": {
      "text/plain": [
       "['e0_simpleLayers_results.joblib']"
      ]
     },
     "execution_count": 5,
     "metadata": {},
     "output_type": "execute_result"
    }
   ],
   "source": [
    "# store results\n",
    "from joblib import dump\n",
    "dump(result_y,store_results_name)"
   ]
  },
  {
   "cell_type": "markdown",
   "metadata": {},
   "source": [
    "## E0 - Plot"
   ]
  },
  {
   "cell_type": "code",
   "execution_count": 9,
   "metadata": {},
   "outputs": [],
   "source": [
    "# setup variables\n",
    "from joblib import load\n",
    "\n",
    "# get kfold accuracies for y axis\n",
    "plot_y = load(store_results_name)\n",
    "\n",
    "# Set x points to number of nodes in the first(and only) hidden layer\n",
    "plot_x = [item[0] for item in hp]"
   ]
  },
  {
   "cell_type": "code",
   "execution_count": 10,
   "metadata": {},
   "outputs": [
    {
     "data": {
      "image/png": "[encoded data removed]",
      "text/plain": [
       "<Figure size 640x480 with 1 Axes>"
      ]
     },
     "metadata": {},
     "output_type": "display_data"
    }
   ],
   "source": [
    "# plot\n",
    "fig, ax = plt.subplots()\n",
    "ax.set_xlabel(\"Hidden Layer Size(1 Layer)\")\n",
    "ax.set_ylabel(\"Accuracy(Kfold CV)\")\n",
    "ax.plot(plot_x, plot_y,label=\"Training Data\",marker=11)\n",
    "ax.legend(loc='upper right')\n",
    "plt.show()"
   ]
  },
  {
   "cell_type": "markdown",
   "metadata": {},
   "source": [
    "# E1 - Iteration Number 1"
   ]
  },
  {
   "cell_type": "markdown",
   "metadata": {},
   "source": [
    "### E1 - Setup"
   ]
  },
  {
   "cell_type": "code",
   "execution_count": 4,
   "metadata": {},
   "outputs": [],
   "source": [
    "# setup global file names\n",
    "# change these names to be unique\n",
    "store_models_name = 'e1_iternum1_models.joblib'\n",
    "store_results_name = 'e1_iternum1_results.joblib'"
   ]
  },
  {
   "cell_type": "code",
   "execution_count": 8,
   "metadata": {},
   "outputs": [
    {
     "data": {
      "text/plain": [
       "[50, 200, 350, 500]"
      ]
     },
     "execution_count": 8,
     "metadata": {},
     "output_type": "execute_result"
    }
   ],
   "source": [
    "# define hyper parameter\n",
    "# Iteration number, default is 200, get snap shot accuracies outside boundary\n",
    "# number of times individual data point is used to train algorithm\n",
    "hp = list(range(50,600,150))\n",
    "hp"
   ]
  },
  {
   "cell_type": "markdown",
   "metadata": {},
   "source": [
    "### E1 - training"
   ]
  },
  {
   "cell_type": "code",
   "execution_count": 18,
   "metadata": {},
   "outputs": [],
   "source": [
    "# train models\n",
    "from sklearn import neural_network\n",
    "\n",
    "trainedModels = []\n",
    "\n",
    "for cur_hp in hp:\n",
    "    nn_characterClassifier = neural_network.MLPClassifier(max_iter=cur_hp)\n",
    "    nn_characterClassifier.fit(train_data,train_target)\n",
    "    trainedModels.append(nn_characterClassifier)"
   ]
  },
  {
   "cell_type": "code",
   "execution_count": 19,
   "metadata": {},
   "outputs": [
    {
     "data": {
      "text/plain": [
       "['e1_iternum1_models.joblib']"
      ]
     },
     "execution_count": 19,
     "metadata": {},
     "output_type": "execute_result"
    }
   ],
   "source": [
    "# store models\n",
    "from joblib import dump\n",
    "dump(trainedModels,store_models_name)"
   ]
  },
  {
   "cell_type": "markdown",
   "metadata": {},
   "source": [
    "### E1 - Model Evaluation"
   ]
  },
  {
   "cell_type": "code",
   "execution_count": 5,
   "metadata": {},
   "outputs": [],
   "source": [
    "# evaulate models\n",
    "from joblib import load\n",
    "from sklearn.model_selection import cross_val_score\n",
    "\n",
    "result_y = []\n",
    "load_trainedModels = load(store_models_name)\n",
    "for i in range(len(load_trainedModels)):\n",
    "    result_y.append(cross_val_score(load_trainedModels[i],X=train_data,y=train_target,cv=5).mean())"
   ]
  },
  {
   "cell_type": "code",
   "execution_count": 6,
   "metadata": {},
   "outputs": [
    {
     "data": {
      "text/plain": [
       "['e1_iternum1_results.joblib']"
      ]
     },
     "execution_count": 6,
     "metadata": {},
     "output_type": "execute_result"
    }
   ],
   "source": [
    "# store results\n",
    "from joblib import dump\n",
    "dump(result_y,store_results_name)"
   ]
  },
  {
   "cell_type": "markdown",
   "metadata": {},
   "source": [
    "## E1 - Plot"
   ]
  },
  {
   "cell_type": "code",
   "execution_count": 9,
   "metadata": {},
   "outputs": [],
   "source": [
    "# setup variables\n",
    "from joblib import load\n",
    "\n",
    "# get kfold accuracies for y axis\n",
    "plot_y = load(store_results_name)\n",
    "\n",
    "# Set x points to number of iterations\n",
    "plot_x = hp"
   ]
  },
  {
   "cell_type": "code",
   "execution_count": 10,
   "metadata": {},
   "outputs": [
    {
     "data": {
      "image/png": "[encoded data removed]",
      "text/plain": [
       "<Figure size 640x480 with 1 Axes>"
      ]
     },
     "metadata": {},
     "output_type": "display_data"
    }
   ],
   "source": [
    "# plot\n",
    "fig, ax = plt.subplots()\n",
    "ax.set_xlabel(\"Iteration Number\")\n",
    "ax.set_ylabel(\"Accuracy(Kfold CV)\")\n",
    "ax.plot(plot_x, plot_y,label=\"Training Data\",marker=11)\n",
    "ax.legend(loc='upper right')\n",
    "plt.show()"
   ]
  },
  {
   "cell_type": "markdown",
   "metadata": {},
   "source": [
    "# E2 - Layers Tuning 1 - Increasing Layer number\n",
    "Try hyper parameter where number of hidden layers goes from 1 to 4. Try with number nodes = 100."
   ]
  },
  {
   "cell_type": "code",
   "execution_count": 3,
   "metadata": {},
   "outputs": [],
   "source": [
    "# setup global file names\n",
    "store_models_name = 'e2_ltune1_models.joblib'\n",
    "store_results_name = 'e2_ltune1_results.joblib'"
   ]
  },
  {
   "cell_type": "code",
   "execution_count": 4,
   "metadata": {},
   "outputs": [],
   "source": [
    "# define hyper parameter\n",
    "# hidden_layer number, size remains constant.\n",
    "hp = [(100,),(100,100),(100,100,100),(100,100,100,100),(100,100,100,100,100)]"
   ]
  },
  {
   "cell_type": "markdown",
   "metadata": {},
   "source": [
    "### E2 - training"
   ]
  },
  {
   "cell_type": "code",
   "execution_count": 5,
   "metadata": {},
   "outputs": [],
   "source": [
    "# train models\n",
    "from sklearn import neural_network\n",
    "\n",
    "trainedModels = []\n",
    "\n",
    "for cur_hp in hp:\n",
    "    nn_characterClassifier = neural_network.MLPClassifier(hidden_layer_sizes=cur_hp)\n",
    "    nn_characterClassifier.fit(train_data,train_target)\n",
    "    trainedModels.append(nn_characterClassifier)"
   ]
  },
  {
   "cell_type": "code",
   "execution_count": 6,
   "metadata": {},
   "outputs": [
    {
     "data": {
      "text/plain": [
       "['e2_ltune1_models.joblib']"
      ]
     },
     "execution_count": 6,
     "metadata": {},
     "output_type": "execute_result"
    }
   ],
   "source": [
    "# store models\n",
    "from joblib import dump\n",
    "dump(trainedModels,store_models_name)"
   ]
  },
  {
   "cell_type": "markdown",
   "metadata": {},
   "source": [
    "### E2 - Model Evaluation"
   ]
  },
  {
   "cell_type": "code",
   "execution_count": 7,
   "metadata": {},
   "outputs": [],
   "source": [
    "# evaulate models\n",
    "from joblib import load\n",
    "from sklearn.model_selection import cross_val_score\n",
    "\n",
    "result_y = []\n",
    "load_trainedModels = load(store_models_name)\n",
    "for i in range(len(load_trainedModels)):\n",
    "    result_y.append(cross_val_score(load_trainedModels[i],X=train_data,y=train_target,cv=5).mean())"
   ]
  },
  {
   "cell_type": "code",
   "execution_count": null,
   "metadata": {},
   "outputs": [],
   "source": [
    "# store results\n",
    "from joblib import dump\n",
    "dump(result_y,store_results_name)"
   ]
  },
  {
   "cell_type": "markdown",
   "metadata": {},
   "source": [
    "## E2 - Plot"
   ]
  },
  {
   "cell_type": "code",
   "execution_count": null,
   "metadata": {},
   "outputs": [],
   "source": [
    "# setup variables\n",
    "from joblib import load\n",
    "\n",
    "# get kfold accuracies for y axis\n",
    "plot_y = load(store_results_name)\n",
    "\n",
    "# Set x points to number of hidden layers (size = 100)\n",
    "plot_x = [len(item) for item in hp]"
   ]
  },
  {
   "cell_type": "code",
   "execution_count": null,
   "metadata": {},
   "outputs": [],
   "source": [
    "# plot\n",
    "fig, ax = plt.subplots()\n",
    "ax.set_xlabel(\"Hidden Layer Size(1 Layer)\")\n",
    "ax.set_ylabel(\"Accuracy(Kfold CV)\")\n",
    "ax.plot(plot_x, plot_y,label=\"Training Data\",marker=11)\n",
    "ax.legend(loc='upper right')\n",
    "plt.show()"
   ]
  },
  {
   "cell_type": "markdown",
   "metadata": {},
   "source": [
    "# E3 - Layers - Single hidden Layer of increasing size"
   ]
  },
  {
   "cell_type": "markdown",
   "metadata": {},
   "source": [
    "### E3 - Setup"
   ]
  },
  {
   "cell_type": "code",
   "execution_count": null,
   "metadata": {},
   "outputs": [],
   "source": [
    "# setup global file names\n",
    "# change these names to be unique\n",
    "store_models_name = 'e3_1hiddenLayersSizeInc_models.joblib'\n",
    "store_results_name = 'e3_1hiddenLayersSizeInc_results.joblib'"
   ]
  },
  {
   "cell_type": "code",
   "execution_count": null,
   "metadata": {},
   "outputs": [],
   "source": [
    "# define hyper parameter\n",
    "# single hidden layer of increasing size\n",
    "layerSize = 50\n",
    "hp = [(layerSize,),(2*layerSize,),(3*layerSize,),(4*layerSize,)]\n",
    "hp"
   ]
  },
  {
   "cell_type": "markdown",
   "metadata": {},
   "source": [
    "### E3 - Training"
   ]
  },
  {
   "cell_type": "code",
   "execution_count": null,
   "metadata": {},
   "outputs": [],
   "source": [
    "# train models\n",
    "from sklearn import neural_network\n",
    "\n",
    "trainedModels = []\n",
    "\n",
    "for cur_hp in hp:\n",
    "    nn_characterClassifier = neural_network.MLPClassifier(max_iter=cur_hp)\n",
    "    nn_characterClassifier.fit(train_data,train_target)\n",
    "    trainedModels.append(nn_characterClassifier)"
   ]
  },
  {
   "cell_type": "code",
   "execution_count": null,
   "metadata": {},
   "outputs": [],
   "source": [
    "# store models\n",
    "from joblib import dump\n",
    "dump(trainedModels,store_models_name)"
   ]
  },
  {
   "cell_type": "markdown",
   "metadata": {},
   "source": [
    "### E3 - Model Evaluation"
   ]
  },
  {
   "cell_type": "code",
   "execution_count": null,
   "metadata": {},
   "outputs": [],
   "source": [
    "# evaulate models\n",
    "from joblib import load\n",
    "from sklearn.model_selection import cross_val_score\n",
    "\n",
    "result_y = []\n",
    "load_trainedModels = load(store_models_name)\n",
    "for i in range(len(load_trainedModels)):\n",
    "    result_y.append(cross_val_score(load_trainedModels[i],X=train_data,y=train_target,cv=5).mean())"
   ]
  },
  {
   "cell_type": "code",
   "execution_count": null,
   "metadata": {},
   "outputs": [],
   "source": [
    "# store results\n",
    "from joblib import dump\n",
    "dump(result_y,store_results_name)"
   ]
  },
  {
   "cell_type": "markdown",
   "metadata": {},
   "source": [
    "## E3 - Plot"
   ]
  },
  {
   "cell_type": "code",
   "execution_count": null,
   "metadata": {},
   "outputs": [],
   "source": [
    "# setup variables\n",
    "from joblib import load\n",
    "\n",
    "# get kfold accuracies for y axis\n",
    "plot_y = load(store_results_name)\n",
    "\n",
    "# Set x points to number of iterations\n",
    "plot_x = [item[0] for item in hp]"
   ]
  },
  {
   "cell_type": "code",
   "execution_count": null,
   "metadata": {},
   "outputs": [],
   "source": [
    "# plot\n",
    "fig, ax = plt.subplots()\n",
    "ax.set_xlabel(\"1 Hidden Layer - Size\")\n",
    "ax.set_ylabel(\"Accuracy(Kfold CV)\")\n",
    "ax.plot(plot_x, plot_y,label=\"Training Data\",marker=11)\n",
    "ax.legend(loc='upper right')\n",
    "plt.show()"
   ]
  },
  {
   "cell_type": "markdown",
   "metadata": {},
   "source": [
    "# E4 - Layers - 2 Hidden layers increasing size"
   ]
  },
  {
   "cell_type": "code",
   "execution_count": null,
   "metadata": {},
   "outputs": [],
   "source": [
    "# setup global file names\n",
    "# change these names to be unique\n",
    "store_models_name = 'e4_2hiddenLayersSizeInc_models.joblib'\n",
    "store_results_name = 'e4_2hiddenLayersSizeInc_results.joblib'"
   ]
  },
  {
   "cell_type": "code",
   "execution_count": null,
   "metadata": {},
   "outputs": [],
   "source": [
    "# define hyper parameter\n",
    "# 2 hidden layer of increasing size\n",
    "layerSize = 50\n",
    "hp = [(layerSize,layerSize),(2*layerSize,2*layerSize),(3*layerSize,3*layerSize),(4*layerSize,4*layerSize)]\n",
    "hp"
   ]
  },
  {
   "cell_type": "markdown",
   "metadata": {},
   "source": [
    "### E4 - training"
   ]
  },
  {
   "cell_type": "code",
   "execution_count": null,
   "metadata": {},
   "outputs": [],
   "source": [
    "# train models\n",
    "from sklearn import neural_network\n",
    "\n",
    "trainedModels = []\n",
    "\n",
    "for cur_hp in hp:\n",
    "    nn_characterClassifier = neural_network.MLPClassifier(max_iter=cur_hp)\n",
    "    nn_characterClassifier.fit(train_data,train_target)\n",
    "    trainedModels.append(nn_characterClassifier)"
   ]
  },
  {
   "cell_type": "code",
   "execution_count": null,
   "metadata": {},
   "outputs": [],
   "source": [
    "# store models\n",
    "from joblib import dump\n",
    "dump(trainedModels,store_models_name)"
   ]
  },
  {
   "cell_type": "markdown",
   "metadata": {},
   "source": [
    "### E4 - model eval"
   ]
  },
  {
   "cell_type": "code",
   "execution_count": null,
   "metadata": {},
   "outputs": [],
   "source": [
    "# evaulate models\n",
    "from joblib import load\n",
    "from sklearn.model_selection import cross_val_score\n",
    "\n",
    "result_y = []\n",
    "load_trainedModels = load(store_models_name)\n",
    "for i in range(len(load_trainedModels)):\n",
    "    result_y.append(cross_val_score(load_trainedModels[i],X=train_data,y=train_target,cv=5).mean())"
   ]
  },
  {
   "cell_type": "code",
   "execution_count": null,
   "metadata": {},
   "outputs": [],
   "source": [
    "# store results\n",
    "from joblib import dump\n",
    "dump(result_y,store_results_name)"
   ]
  },
  {
   "cell_type": "markdown",
   "metadata": {},
   "source": [
    "## E4 - Plot"
   ]
  },
  {
   "cell_type": "code",
   "execution_count": null,
   "metadata": {},
   "outputs": [],
   "source": [
    "# setup variables\n",
    "from joblib import load\n",
    "\n",
    "# get kfold accuracies for y axis\n",
    "plot_y = load(store_results_name)\n",
    "\n",
    "# Set x points to number of iterations\n",
    "plot_x = hp"
   ]
  },
  {
   "cell_type": "code",
   "execution_count": null,
   "metadata": {},
   "outputs": [],
   "source": [
    "# plot\n",
    "fig, ax = plt.subplots()\n",
    "ax.set_xlabel(\"2 Hidden Layers Size\")\n",
    "ax.set_ylabel(\"Accuracy(Kfold CV)\")\n",
    "ax.plot(plot_x, plot_y,label=\"Training Data\",marker=11)\n",
    "ax.legend(loc='upper right')\n",
    "plt.show()"
   ]
  },
  {
   "cell_type": "markdown",
   "metadata": {},
   "source": [
    "# Final (go to moon) and test tuned model on test set"
   ]
  }
 ],
 "metadata": {
  "kernelspec": {
   "display_name": "Python 3",
   "language": "python",
   "name": "python3"
  },
  "language_info": {
   "codemirror_mode": {
    "name": "ipython",
    "version": 3
   },
   "file_extension": ".py",
   "mimetype": "text/x-python",
   "name": "python",
   "nbconvert_exporter": "python",
   "pygments_lexer": "ipython3",
   "version": "3.11.5"
  }
 },
 "nbformat": 4,
 "nbformat_minor": 2
}
