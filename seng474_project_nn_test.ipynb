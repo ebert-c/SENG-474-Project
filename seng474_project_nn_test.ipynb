{
 "cells": [
  {
   "cell_type": "markdown",
   "metadata": {},
   "source": [
    "# Project\n",
    "playground for testing workflows"
   ]
  },
  {
   "cell_type": "markdown",
   "metadata": {},
   "source": [
    "# Data set setup"
   ]
  },
  {
   "cell_type": "code",
   "execution_count": 20,
   "metadata": {},
   "outputs": [],
   "source": [
    "import os\n",
    "import scipy.io"
   ]
  },
  {
   "cell_type": "code",
   "execution_count": 24,
   "metadata": {},
   "outputs": [
    {
     "data": {
      "text/plain": [
       "{'__header__': b'MATLAB 5.0 MAT-file, Platform: PCWIN64, Created on: Tue Jan 24 22:21:15 2017',\n",
       " '__version__': '1.0',\n",
       " '__globals__': [],\n",
       " 'dataset': array([[(array([[(array([[0, 0, 0, ..., 0, 0, 0],\n",
       "                        [0, 0, 0, ..., 0, 0, 0],\n",
       "                        [0, 0, 0, ..., 0, 0, 0],\n",
       "                        ...,\n",
       "                        [0, 0, 0, ..., 0, 0, 0],\n",
       "                        [0, 0, 0, ..., 0, 0, 0],\n",
       "                        [0, 0, 0, ..., 0, 0, 0]], dtype=uint8), array([[23],\n",
       "                        [ 7],\n",
       "                        [16],\n",
       "                        ...,\n",
       "                        [13],\n",
       "                        [15],\n",
       "                        [19]], dtype=uint8), array([[1234],\n",
       "                        [ 799],\n",
       "                        [3444],\n",
       "                        ...,\n",
       "                        [ 785],\n",
       "                        [ 208],\n",
       "                        [ 875]], dtype=uint16))                             ]],\n",
       "               dtype=[('images', 'O'), ('labels', 'O'), ('writers', 'O')]), array([[(array([[0, 0, 0, ..., 0, 0, 0],\n",
       "                        [0, 0, 0, ..., 0, 0, 0],\n",
       "                        [0, 0, 0, ..., 0, 0, 0],\n",
       "                        ...,\n",
       "                        [0, 0, 0, ..., 0, 0, 0],\n",
       "                        [0, 0, 0, ..., 0, 0, 0],\n",
       "                        [0, 0, 0, ..., 0, 0, 0]], dtype=uint8), array([[ 1],\n",
       "                        [ 1],\n",
       "                        [ 1],\n",
       "                        ...,\n",
       "                        [26],\n",
       "                        [26],\n",
       "                        [26]], dtype=uint8), array([[3259],\n",
       "                        [3984],\n",
       "                        [2060],\n",
       "                        ...,\n",
       "                        [1888],\n",
       "                        [3407],\n",
       "                        [1301]], dtype=uint16))                             ]],\n",
       "               dtype=[('images', 'O'), ('labels', 'O'), ('writers', 'O')]), array([[  1,  65,  97],\n",
       "                [  2,  66,  98],\n",
       "                [  3,  67,  99],\n",
       "                [  4,  68, 100],\n",
       "                [  5,  69, 101],\n",
       "                [  6,  70, 102],\n",
       "                [  7,  71, 103],\n",
       "                [  8,  72, 104],\n",
       "                [  9,  73, 105],\n",
       "                [ 10,  74, 106],\n",
       "                [ 11,  75, 107],\n",
       "                [ 12,  76, 108],\n",
       "                [ 13,  77, 109],\n",
       "                [ 14,  78, 110],\n",
       "                [ 15,  79, 111],\n",
       "                [ 16,  80, 112],\n",
       "                [ 17,  81, 113],\n",
       "                [ 18,  82, 114],\n",
       "                [ 19,  83, 115],\n",
       "                [ 20,  84, 116],\n",
       "                [ 21,  85, 117],\n",
       "                [ 22,  86, 118],\n",
       "                [ 23,  87, 119],\n",
       "                [ 24,  88, 120],\n",
       "                [ 25,  89, 121],\n",
       "                [ 26,  90, 122]], dtype=uint8))                                                                     ]],\n",
       "       dtype=[('train', 'O'), ('test', 'O'), ('mapping', 'O')])}"
      ]
     },
     "execution_count": 24,
     "metadata": {},
     "output_type": "execute_result"
    }
   ],
   "source": [
    "# load matlab data\n",
    "mat = scipy.io.loadmat('matlab/emnist-letters')\n",
    "mat"
   ]
  }
 ],
 "metadata": {
  "kernelspec": {
   "display_name": "Python 3",
   "language": "python",
   "name": "python3"
  },
  "language_info": {
   "codemirror_mode": {
    "name": "ipython",
    "version": 3
   },
   "file_extension": ".py",
   "mimetype": "text/x-python",
   "name": "python",
   "nbconvert_exporter": "python",
   "pygments_lexer": "ipython3",
   "version": "3.11.5"
  }
 },
 "nbformat": 4,
 "nbformat_minor": 2
}
