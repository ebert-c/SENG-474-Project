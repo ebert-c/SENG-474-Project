{
 "cells": [
  {
   "cell_type": "markdown",
   "metadata": {},
   "source": [
    "# Project - Hand Written Character Classification - Neural Networks"
   ]
  },
  {
   "cell_type": "markdown",
   "metadata": {},
   "source": [
    "# Data set setup"
   ]
  },
  {
   "cell_type": "code",
   "execution_count": 10,
   "metadata": {},
   "outputs": [],
   "source": [
    "import scipy.io\n",
    "\n",
    "# prereqs import\n",
    "import pandas as pd\n",
    "import numpy as np\n",
    "import math\n",
    "import re\n",
    "#from sklearn.tree import DecisionTreeClassifier\n",
    "from sklearn.model_selection import train_test_split\n",
    "from sklearn.metrics import confusion_matrix\n",
    "from sklearn.preprocessing import normalize\n",
    "import matplotlib.pyplot as plt\n",
    "\n",
    "# load matlab data\n",
    "mat = scipy.io.loadmat('matlab/emnist-balanced')\n",
    "mat.keys()\n",
    "data = mat['dataset']\n",
    "\n",
    "# see page 4 of the paper on emnist\n",
    "# uncertain what 3rd entry is in dataset\n",
    "X_train = data['train'][0,0]['images'][0,0]\n",
    "y_train = data['train'][0,0]['labels'][0,0]\n",
    "X_test = data['test'][0,0]['images'][0,0]\n",
    "y_test = data['test'][0,0]['labels'][0,0]\n",
    "\n",
    "# try proccessing data (pixel values from EMINST are not normalized, 0-255)\n",
    "def rescale_DivideBy255(inputData):\n",
    "    outputArray = []\n",
    "    for i in range(len(inputData)):\n",
    "        outputArray.append(inputData[i]/255)\n",
    "\n",
    "    return outputArray\n",
    "\n",
    "X_train_normalized = rescale_DivideBy255(X_train)\n",
    "X_test_normalized = rescale_DivideBy255(X_test)\n",
    "\n",
    "train_data = X_train_normalized\n",
    "train_target = y_train\n",
    "test_data = X_test_normalized\n",
    "test_target = y_test"
   ]
  },
  {
   "cell_type": "code",
   "execution_count": 9,
   "metadata": {},
   "outputs": [],
   "source": [
    "# kfold cross validation\n",
    "# returns an array indicating accuracy of each algorithm\n",
    "# Each indicey result computing cross validation error and averaging across number of folds for each algorithm\n",
    "# Throwing future depreciation warnings because of np.array split on pandas data frame.\n",
    "def kfoldCrossValidation(n_folds=(),algorithms=(),data=(),target=()):\n",
    "    # Perform k fold cross validation\n",
    "    # 1. partition data into k disjoint subsets\n",
    "    # np_partitionsData = np.array(inputData)[:,None]\n",
    "    partitionsData = np.array_split(data,n_folds)\n",
    "    #np_partitionsTarget = np.array(inputData)[:,None]\n",
    "    partitionsTarget = np.array_split(target,n_folds)\n",
    "\n",
    "    hypotheses = [[0]*n_folds for m in range(len(algorithms))]\n",
    "    accuracy = [[0]*n_folds for m in range(len(algorithms))]\n",
    "\n",
    "    # 2. Compute accuracy for each algorithm on each fold\n",
    "    for i in range(n_folds):\n",
    "        # Get training set given current fold i\n",
    "        curTrainingSetParts = []\n",
    "        curTargetSetParts = []\n",
    "        for j in range(n_folds):\n",
    "            if(j!=i):\n",
    "                curTrainingSetParts.append(partitionsData[j])\n",
    "                curTargetSetParts.append(partitionsTarget[j])\n",
    "\n",
    "        curTrainingSet = np.concatenate(curTrainingSetParts)\n",
    "        curTargetSet = np.concatenate(curTargetSetParts)\n",
    "\n",
    "        # run all learning algorithms Am on the training set, store hypothesis hmj\n",
    "        for m in range(len(algorithms)):\n",
    "            hypotheses[m][i] = algorithms[m].fit(curTrainingSet,curTargetSet)\n",
    "            accuracy[m][i] = hypotheses[m][i].score(partitionsData[i],partitionsTarget[i])\n",
    "\n",
    "    # 3. Return the average accuracy of each algorithm\n",
    "    alg_accuracy = []\n",
    "    for m in range(len(algorithms)):\n",
    "        mRisk = 0\n",
    "        for score in accuracy[m]:\n",
    "            mRisk+=score\n",
    "\n",
    "        mRisk/= n_folds\n",
    "        alg_accuracy.append(mRisk)\n",
    "\n",
    "    return alg_accuracy\n",
    "\n",
    "# disable warnings in following code\n",
    "import warnings\n",
    "warnings.filterwarnings('ignore')"
   ]
  },
  {
   "cell_type": "markdown",
   "metadata": {},
   "source": [
    "# Test Neural Network Training\n",
    "train time:\n",
    "- 73~ minutes to train on non normalized data\n",
    "- 9 minute train time normalized data\n",
    "- 22 minutes training on balanced normalized data\n",
    "\n",
    "accuracy:\n",
    "- 0.97 accuracy classifying non normalized data [DIGITS]\n",
    "- 0.9862 accuracy classifying normalized data [DIGITS]\n",
    "- accuracy classifying normalized [BALANCED] dataset\n",
    "- 79% accuracy classifying the balanced data set <- room for tuning"
   ]
  },
  {
   "cell_type": "code",
   "execution_count": 20,
   "metadata": {},
   "outputs": [
    {
     "data": {
      "text/plain": [
       "112800"
      ]
     },
     "execution_count": 20,
     "metadata": {},
     "output_type": "execute_result"
    }
   ],
   "source": [
    "# For digits expect 280,000 total samples, 240,000 for training, 40,000 for testing. \n",
    "len(X_train_normalized)"
   ]
  },
  {
   "cell_type": "code",
   "execution_count": 21,
   "metadata": {},
   "outputs": [
    {
     "name": "stderr",
     "output_type": "stream",
     "text": [
      "c:\\Users\\hunter\\AppData\\Local\\Programs\\Python\\Python311\\Lib\\site-packages\\sklearn\\neural_network\\_multilayer_perceptron.py:1102: DataConversionWarning: A column-vector y was passed when a 1d array was expected. Please change the shape of y to (n_samples, ), for example using ravel().\n",
      "  y = column_or_1d(y, warn=True)\n",
      "c:\\Users\\hunter\\AppData\\Local\\Programs\\Python\\Python311\\Lib\\site-packages\\sklearn\\neural_network\\_multilayer_perceptron.py:691: ConvergenceWarning: Stochastic Optimizer: Maximum iterations (200) reached and the optimization hasn't converged yet.\n",
      "  warnings.warn(\n"
     ]
    },
    {
     "data": {
      "text/html": [
       "<style>#sk-container-id-2 {color: black;}#sk-container-id-2 pre{padding: 0;}#sk-container-id-2 div.sk-toggleable {background-color: white;}#sk-container-id-2 label.sk-toggleable__label {cursor: pointer;display: block;width: 100%;margin-bottom: 0;padding: 0.3em;box-sizing: border-box;text-align: center;}#sk-container-id-2 label.sk-toggleable__label-arrow:before {content: \"▸\";float: left;margin-right: 0.25em;color: #696969;}#sk-container-id-2 label.sk-toggleable__label-arrow:hover:before {color: black;}#sk-container-id-2 div.sk-estimator:hover label.sk-toggleable__label-arrow:before {color: black;}#sk-container-id-2 div.sk-toggleable__content {max-height: 0;max-width: 0;overflow: hidden;text-align: left;background-color: #f0f8ff;}#sk-container-id-2 div.sk-toggleable__content pre {margin: 0.2em;color: black;border-radius: 0.25em;background-color: #f0f8ff;}#sk-container-id-2 input.sk-toggleable__control:checked~div.sk-toggleable__content {max-height: 200px;max-width: 100%;overflow: auto;}#sk-container-id-2 input.sk-toggleable__control:checked~label.sk-toggleable__label-arrow:before {content: \"▾\";}#sk-container-id-2 div.sk-estimator input.sk-toggleable__control:checked~label.sk-toggleable__label {background-color: #d4ebff;}#sk-container-id-2 div.sk-label input.sk-toggleable__control:checked~label.sk-toggleable__label {background-color: #d4ebff;}#sk-container-id-2 input.sk-hidden--visually {border: 0;clip: rect(1px 1px 1px 1px);clip: rect(1px, 1px, 1px, 1px);height: 1px;margin: -1px;overflow: hidden;padding: 0;position: absolute;width: 1px;}#sk-container-id-2 div.sk-estimator {font-family: monospace;background-color: #f0f8ff;border: 1px dotted black;border-radius: 0.25em;box-sizing: border-box;margin-bottom: 0.5em;}#sk-container-id-2 div.sk-estimator:hover {background-color: #d4ebff;}#sk-container-id-2 div.sk-parallel-item::after {content: \"\";width: 100%;border-bottom: 1px solid gray;flex-grow: 1;}#sk-container-id-2 div.sk-label:hover label.sk-toggleable__label {background-color: #d4ebff;}#sk-container-id-2 div.sk-serial::before {content: \"\";position: absolute;border-left: 1px solid gray;box-sizing: border-box;top: 0;bottom: 0;left: 50%;z-index: 0;}#sk-container-id-2 div.sk-serial {display: flex;flex-direction: column;align-items: center;background-color: white;padding-right: 0.2em;padding-left: 0.2em;position: relative;}#sk-container-id-2 div.sk-item {position: relative;z-index: 1;}#sk-container-id-2 div.sk-parallel {display: flex;align-items: stretch;justify-content: center;background-color: white;position: relative;}#sk-container-id-2 div.sk-item::before, #sk-container-id-2 div.sk-parallel-item::before {content: \"\";position: absolute;border-left: 1px solid gray;box-sizing: border-box;top: 0;bottom: 0;left: 50%;z-index: -1;}#sk-container-id-2 div.sk-parallel-item {display: flex;flex-direction: column;z-index: 1;position: relative;background-color: white;}#sk-container-id-2 div.sk-parallel-item:first-child::after {align-self: flex-end;width: 50%;}#sk-container-id-2 div.sk-parallel-item:last-child::after {align-self: flex-start;width: 50%;}#sk-container-id-2 div.sk-parallel-item:only-child::after {width: 0;}#sk-container-id-2 div.sk-dashed-wrapped {border: 1px dashed gray;margin: 0 0.4em 0.5em 0.4em;box-sizing: border-box;padding-bottom: 0.4em;background-color: white;}#sk-container-id-2 div.sk-label label {font-family: monospace;font-weight: bold;display: inline-block;line-height: 1.2em;}#sk-container-id-2 div.sk-label-container {text-align: center;}#sk-container-id-2 div.sk-container {/* jupyter's `normalize.less` sets `[hidden] { display: none; }` but bootstrap.min.css set `[hidden] { display: none !important; }` so we also need the `!important` here to be able to override the default hidden behavior on the sphinx rendered scikit-learn.org. See: https://github.com/scikit-learn/scikit-learn/issues/21755 */display: inline-block !important;position: relative;}#sk-container-id-2 div.sk-text-repr-fallback {display: none;}</style><div id=\"sk-container-id-2\" class=\"sk-top-container\"><div class=\"sk-text-repr-fallback\"><pre>MLPClassifier()</pre><b>In a Jupyter environment, please rerun this cell to show the HTML representation or trust the notebook. <br />On GitHub, the HTML representation is unable to render, please try loading this page with nbviewer.org.</b></div><div class=\"sk-container\" hidden><div class=\"sk-item\"><div class=\"sk-estimator sk-toggleable\"><input class=\"sk-toggleable__control sk-hidden--visually\" id=\"sk-estimator-id-2\" type=\"checkbox\" checked><label for=\"sk-estimator-id-2\" class=\"sk-toggleable__label sk-toggleable__label-arrow\">MLPClassifier</label><div class=\"sk-toggleable__content\"><pre>MLPClassifier()</pre></div></div></div></div></div>"
      ],
      "text/plain": [
       "MLPClassifier()"
      ]
     },
     "execution_count": 21,
     "metadata": {},
     "output_type": "execute_result"
    }
   ],
   "source": [
    "from sklearn import neural_network\n",
    "\n",
    "testNN = neural_network.MLPClassifier()\n",
    "testNN.fit(X_train_normalized,y_train)"
   ]
  },
  {
   "cell_type": "code",
   "execution_count": 22,
   "metadata": {},
   "outputs": [
    {
     "data": {
      "text/plain": [
       "0.7954255319148936"
      ]
     },
     "execution_count": 22,
     "metadata": {},
     "output_type": "execute_result"
    }
   ],
   "source": [
    "\n",
    "testNN.score(X_test_normalized,y_test)"
   ]
  },
  {
   "cell_type": "markdown",
   "metadata": {},
   "source": [
    "# Neural Network Experiments"
   ]
  },
  {
   "cell_type": "markdown",
   "metadata": {},
   "source": [
    "## 1 - Tuning Parameters\n",
    "\n",
    "### 1.1 - Node Type\n",
    "Using defaults of sci kit learn MLP. Varry node type and compare accuracy on the training set with kfold cross validation."
   ]
  },
  {
   "cell_type": "code",
   "execution_count": 11,
   "metadata": {},
   "outputs": [],
   "source": [
    "from sklearn import neural_network\n",
    "\n",
    "node_types = ['identity', 'logistic','relu','tanh']\n",
    "\n",
    "accuracy_kcv_tuning_nodeType = []\n",
    "\n",
    "for node_type in node_types:\n",
    "    nn_characterClassifier = neural_network.MLPClassifier(activation=node_type)\n",
    "    nn_characterClassifier.fit(train_data,train_target)\n",
    "    accuracy_kcv_tuning_nodeType.append(\n",
    "        [\n",
    "            node_type,\n",
    "            kfoldCrossValidation(n_folds=5,algorithms=[nn_characterClassifier],data=train_data,target=train_target)\n",
    "         ]\n",
    "        )"
   ]
  },
  {
   "cell_type": "code",
   "execution_count": 12,
   "metadata": {},
   "outputs": [],
   "source": [
    "errors = np.array(accuracy_kcv_tuning_nodeType, dtype=\"object\")\n",
    "errors = errors.T\n",
    "xVals=[]\n",
    "yVals=[]\n",
    "for val in errors[0]:\n",
    "    xVals.append(val)\n",
    "for val in errors[1]:\n",
    "    yVals.append(val)"
   ]
  },
  {
   "cell_type": "code",
   "execution_count": 13,
   "metadata": {},
   "outputs": [
    {
     "data": {
      "image/png": "[encoded data removed]",
      "text/plain": [
       "<Figure size 640x480 with 1 Axes>"
      ]
     },
     "metadata": {},
     "output_type": "display_data"
    }
   ],
   "source": [
    "fig, ax = plt.subplots()\n",
    "ax.set_xlabel(\"Node Type\")\n",
    "ax.set_ylabel(\"Accuracy(Kfold CV)\")\n",
    "ax.plot(xVals, yVals,label=\"Training Data\",marker=11)\n",
    "ax.legend(loc='upper right')\n",
    "plt.show()"
   ]
  },
  {
   "cell_type": "markdown",
   "metadata": {},
   "source": [
    "## 1.2 - Hidden Layer size\n",
    "Try a single hidden layer, plot kcv accuracy vs number of nodes. Use default relu node type"
   ]
  },
  {
   "cell_type": "code",
   "execution_count": 6,
   "metadata": {},
   "outputs": [
    {
     "data": {
      "text/plain": [
       "[(10,), (30,), (50,), (70,), (90,), (110,), (130,), (150,), (170,), (190,)]"
      ]
     },
     "execution_count": 6,
     "metadata": {},
     "output_type": "execute_result"
    }
   ],
   "source": [
    "# hidden layer sizes\n",
    "initial_size = 5\n",
    "hl_size_max = 100 \n",
    "hidden_layer_sizes_layers = []\n",
    "\n",
    "for i in range(10,202,20):\n",
    "    hidden_layer_sizes_layers.append((i,))\n",
    "\n",
    "#hidden_layer_sizes_layers\n",
    "hidden_layer_sizes_layers"
   ]
  },
  {
   "cell_type": "code",
   "execution_count": null,
   "metadata": {},
   "outputs": [],
   "source": [
    "from sklearn import neural_network\n",
    "\n",
    "accuracy_kcv_tuning_hiddenLayerSize_l1 = []\n",
    "\n",
    "for layer in hidden_layer_sizes_layers:\n",
    "    nn_characterClassifier = neural_network.MLPClassifier(hidden_layer_sizes=layer,activation='relu')\n",
    "    nn_characterClassifier.fit(train_data,train_target)\n",
    "    accuracy_kcv_tuning_nodeType.append(\n",
    "        [\n",
    "            layer[0][0],\n",
    "            kfoldCrossValidation(n_folds=5,algorithms=[nn_characterClassifier],data=train_data,target=train_target)\n",
    "         ]\n",
    "        )"
   ]
  },
  {
   "cell_type": "code",
   "execution_count": null,
   "metadata": {},
   "outputs": [],
   "source": [
    "errors = np.array(accuracy_kcv_tuning_nodeType, dtype=\"object\")\n",
    "errors = errors.T\n",
    "xVals=[]\n",
    "yVals=[]\n",
    "for val in errors[0]:\n",
    "    xVals.append(val)\n",
    "for val in errors[1]:\n",
    "    yVals.append(val)"
   ]
  },
  {
   "cell_type": "code",
   "execution_count": null,
   "metadata": {},
   "outputs": [],
   "source": [
    "fig, ax = plt.subplots()\n",
    "ax.set_xlabel(\"Hidden Layer Size\")\n",
    "ax.set_ylabel(\"Accuracy(Kfold CV)\")\n",
    "ax.plot(xVals, yVals,label=\"Training Data\",marker=11)\n",
    "ax.legend(loc='upper right')\n",
    "plt.show()"
   ]
  },
  {
   "cell_type": "markdown",
   "metadata": {},
   "source": [
    "## 1.3 - Hidden Layer Number\n",
    "Using tuned layer size(where diminishing returns occured in accuracy), increase number hidden layers.\n",
    "Possible layer size should be reduced slightly with each additional layer"
   ]
  }
 ],
 "metadata": {
  "kernelspec": {
   "display_name": "Python 3",
   "language": "python",
   "name": "python3"
  },
  "language_info": {
   "codemirror_mode": {
    "name": "ipython",
    "version": 3
   },
   "file_extension": ".py",
   "mimetype": "text/x-python",
   "name": "python",
   "nbconvert_exporter": "python",
   "pygments_lexer": "ipython3",
   "version": "3.11.6"
  }
 },
 "nbformat": 4,
 "nbformat_minor": 2
}
